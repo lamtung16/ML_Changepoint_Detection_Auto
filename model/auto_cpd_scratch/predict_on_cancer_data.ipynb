{
 "cells": [
  {
   "cell_type": "code",
   "execution_count": 1,
   "metadata": {},
   "outputs": [],
   "source": [
    "import numpy as np\n",
    "import torch\n",
    "import matplotlib.pyplot as plt\n",
    "from matplotlib.lines import Line2D\n",
    "from matplotlib.patches import Patch\n",
    "import pandas as pd\n",
    "import lzma"
   ]
  },
  {
   "cell_type": "code",
   "execution_count": 2,
   "metadata": {},
   "outputs": [],
   "source": [
    "def min_max_normalize_row(segment):\n",
    "    min_val = segment.min()\n",
    "    max_val = segment.max()\n",
    "    return (segment - min_val) / (max_val - min_val) if max_val > min_val else segment"
   ]
  },
  {
   "cell_type": "code",
   "execution_count": 3,
   "metadata": {},
   "outputs": [],
   "source": [
    "def find_segments(labels, segment_length, min_region_length):\n",
    "    segments = []  # List to store the valid segments (i, j)\n",
    "    \n",
    "    # Iterate over the labels array to find potential segments\n",
    "    for i in range(len(labels)):\n",
    "        if labels[i] == 1:  # Start of a potential segment\n",
    "            for j in range(i + min_region_length + 1, len(labels)):  # j must be at least min_region_length indices after i\n",
    "                if labels[j] == 1:  # End of a potential segment\n",
    "                    # Check the condition for labels[k] where i < k < j\n",
    "                    valid_segment = True\n",
    "                    for k in range(i + 1, j):  # Check indices between i and j\n",
    "                        if labels[k] == 0 and labels[k - segment_length] != 1:\n",
    "                            valid_segment = False\n",
    "                            break\n",
    "                    if valid_segment:\n",
    "                        segments.append((i, j))\n",
    "    \n",
    "    # Sort the segments by their start index\n",
    "    segments.sort()\n",
    "\n",
    "    # Merge segments\n",
    "    merged_segments = []\n",
    "    for start, end in segments:\n",
    "        if not merged_segments or merged_segments[-1][1] + segment_length < start:  # Adjusted condition to check overlap or adjacency\n",
    "            merged_segments.append((start, end))\n",
    "        else:  # Overlap or adjacency, so merge\n",
    "            merged_segments[-1] = (merged_segments[-1][0], max(merged_segments[-1][1], end))\n",
    "\n",
    "    return merged_segments"
   ]
  },
  {
   "cell_type": "code",
   "execution_count": 4,
   "metadata": {},
   "outputs": [],
   "source": [
    "model = torch.jit.load(\"trained_model.pth\")\n",
    "model.eval()\n",
    "segment_length = model.fc1.in_features\n",
    "# min_region_length = int(segment_length/4)\n",
    "min_region_length = 2"
   ]
  },
  {
   "cell_type": "code",
   "execution_count": 5,
   "metadata": {},
   "outputs": [],
   "source": [
    "with lzma.open(\"../../data/cancer/profiles.csv.xz\", 'rt') as file:\n",
    "    signal_df = pd.read_csv(file)\n",
    "list_seqID = sorted(signal_df['sequenceID'].unique())[::2]\n",
    "\n",
    "labels_df = pd.read_csv(\"../../data/cancer/labels.csv\")"
   ]
  },
  {
   "cell_type": "code",
   "execution_count": null,
   "metadata": {},
   "outputs": [],
   "source": [
    "for i, seqID in enumerate(list_seqID):\n",
    "    # Check if sequence length is smaller than the segment_length\n",
    "    seq_df = signal_df[signal_df['sequenceID'] == seqID]\n",
    "    seq = seq_df['signal'].to_numpy()\n",
    "    if len(seq) < segment_length:\n",
    "        continue  # Skip this sequence if its length is smaller than the segment length\n",
    "\n",
    "    # Break sequence into segments\n",
    "    segments = np.array([seq[i:i + segment_length] for i in range(len(seq) - segment_length + 1)])\n",
    "    segments_normalized = np.array([min_max_normalize_row(segment) for segment in segments])\n",
    "    segments_tensor = torch.tensor(segments_normalized, dtype=torch.float32)\n",
    "    \n",
    "    # Calculate labels\n",
    "    labels = (model(segments_tensor) > 0.5).int()\n",
    "\n",
    "    # Get the regions\n",
    "    regions = find_segments(labels, segment_length, min_region_length)\n",
    "\n",
    "    # Create the figure and axes for two stacked plots\n",
    "    fig, (ax1, ax2) = plt.subplots(2, 1, figsize=(12, 4), sharex=True)\n",
    "\n",
    "    # Plot the sequence in the first subplot\n",
    "    ax1.plot(seq, label='sequence', color='black')\n",
    "    for (rect_start, rect_end) in regions:\n",
    "        ax1.axvspan(rect_start, rect_end + segment_length, ymin=np.floor(min(seq)), ymax=np.ceil(max(seq)), color='red', alpha=0.3)\n",
    "    ax1.set_xlabel('Index')\n",
    "    ax1.set_ylabel('Value')\n",
    "    ax1.set_title(f\"Sequence: {i}-{seqID}\")\n",
    "    ax1.legend(handles=[\n",
    "        Line2D([0], [0], color='black', lw=2, label='Sequence'),\n",
    "        Patch(color='red', alpha=0.3, label='Changepoint Region')\n",
    "    ], loc='upper left', bbox_to_anchor=(1, 1), handlelength=2)\n",
    "\n",
    "    # Now process the second plot (signal with labeled regions)\n",
    "    seq_label_df = labels_df[(labels_df['sequenceID'] == seqID) | (labels_df['sequenceID'] == (seqID[:-3] + \".F2\"))]\n",
    "    sequence_id = seq_df['sequenceID'].unique()[0][:-3]\n",
    "    \n",
    "    # Plot the signal in the second subplot\n",
    "    ax2.plot(seq_df['position'] - 1, seq_df['signal'], color='blue', label=f\"{sequence_id}\")\n",
    "    signal_min = seq_df['signal'].min()\n",
    "    signal_max = seq_df['signal'].max()\n",
    "    \n",
    "    # Add rectangles for each labeled region\n",
    "    for _, row in seq_label_df.iterrows():\n",
    "        color = 'pink' if row['changes'] == 0 else 'red'\n",
    "        start = row['start'] - 0.7\n",
    "        end = row['end'] - 1.3\n",
    "        width = end - start\n",
    "        ax2.add_patch(plt.Rectangle((start, signal_min), width, signal_max - signal_min, color=color, alpha=0.3))\n",
    "    \n",
    "    ax2.set_xlabel('Position')\n",
    "    ax2.set_ylabel('Signal')\n",
    "    ax2.legend()\n",
    "\n",
    "    # Save the combined figure as a PNG\n",
    "    plt.tight_layout()  # Ensure proper spacing between plots\n",
    "    plt.savefig(f'figures_cancer/sequence_{sequence_id}.png', bbox_inches='tight')\n",
    "    plt.close(fig)  # Close the figure to free up memory"
   ]
  }
 ],
 "metadata": {
  "kernelspec": {
   "display_name": "Python 3",
   "language": "python",
   "name": "python3"
  },
  "language_info": {
   "codemirror_mode": {
    "name": "ipython",
    "version": 3
   },
   "file_extension": ".py",
   "mimetype": "text/x-python",
   "name": "python",
   "nbconvert_exporter": "python",
   "pygments_lexer": "ipython3",
   "version": "3.10.11"
  }
 },
 "nbformat": 4,
 "nbformat_minor": 2
}
