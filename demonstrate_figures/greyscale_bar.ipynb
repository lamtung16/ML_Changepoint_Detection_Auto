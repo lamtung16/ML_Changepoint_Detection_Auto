{
 "cells": [
  {
   "cell_type": "code",
   "execution_count": 1,
   "metadata": {},
   "outputs": [],
   "source": [
    "import numpy as np\n",
    "import matplotlib.pyplot as plt"
   ]
  },
  {
   "cell_type": "code",
   "execution_count": 2,
   "metadata": {},
   "outputs": [
    {
     "data": {
      "image/png": "[encoded data removed]",
      "text/plain": [
       "<Figure size 1000x50 with 1 Axes>"
      ]
     },
     "metadata": {},
     "output_type": "display_data"
    }
   ],
   "source": [
    "# Set the width of the grayscale bar\n",
    "width = 500  # Width of the bar in pixels\n",
    "\n",
    "# Create a horizontal gradient from white to black\n",
    "gradient = np.linspace(1, 0, width)  # Gradient values from 1 (white) to 0 (black)\n",
    "gradient = np.tile(gradient, (5, 1))  # Set height to 10 pixels for visibility\n",
    "\n",
    "# Plot the gradient as an image\n",
    "plt.figure(figsize=(10, 0.5))\n",
    "plt.imshow(gradient, cmap=\"gray\", aspect=\"auto\")\n",
    "plt.axis(\"off\")\n",
    "\n",
    "plt.annotate(\n",
    "    text='', \n",
    "    xy=(1, -0.5), xycoords='axes fraction',                         # End point of arrow (right, middle)\n",
    "    xytext=(0, -0.5), textcoords='axes fraction',                # Start point of arrow (left, middle) and text position below\n",
    "    arrowprops=dict(arrowstyle=\"->\", color='black', linewidth=5),\n",
    "    ha='center', va='center'\n",
    ")\n",
    "\n",
    "plt.annotate(\n",
    "    \"Magnitude of Contribution\", \n",
    "    xy=(0.5, -1),\n",
    "    xycoords='axes fraction',\n",
    "    ha='center', va='center',\n",
    "    fontweight='bold'\n",
    ")\n",
    "\n",
    "plt.show()"
   ]
  }
 ],
 "metadata": {
  "kernelspec": {
   "display_name": "Python 3",
   "language": "python",
   "name": "python3"
  },
  "language_info": {
   "codemirror_mode": {
    "name": "ipython",
    "version": 3
   },
   "file_extension": ".py",
   "mimetype": "text/x-python",
   "name": "python",
   "nbconvert_exporter": "python",
   "pygments_lexer": "ipython3",
   "version": "3.10.11"
  }
 },
 "nbformat": 4,
 "nbformat_minor": 2
}
