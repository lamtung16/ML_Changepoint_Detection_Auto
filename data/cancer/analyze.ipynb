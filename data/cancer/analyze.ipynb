{
 "cells": [
  {
   "cell_type": "code",
   "execution_count": null,
   "metadata": {},
   "outputs": [],
   "source": [
    "import pandas as pd\n",
    "import lzma\n",
    "import matplotlib.pyplot as plt\n",
    "import numpy as np"
   ]
  },
  {
   "cell_type": "code",
   "execution_count": null,
   "metadata": {},
   "outputs": [],
   "source": [
    "with lzma.open(\"profiles.csv.xz\", 'rt') as file:\n",
    "    signal_df = pd.read_csv(file)\n",
    "signal_df['sequenceID'] = signal_df['sequenceID'].str[:-3]\n",
    "signal_df = signal_df.drop_duplicates(subset=['sequenceID', 'position'])\n",
    "\n",
    "labels_df = pd.read_csv(\"labels.csv\")\n",
    "labels_df['sequenceID'] = labels_df['sequenceID'].str[:-3]\n",
    "labels_df['label_length'] = labels_df['end'] - labels_df['start']"
   ]
  },
  {
   "cell_type": "code",
   "execution_count": null,
   "metadata": {},
   "outputs": [],
   "source": [
    "list_seqID = sorted(signal_df['sequenceID'].unique())"
   ]
  },
  {
   "cell_type": "code",
   "execution_count": null,
   "metadata": {},
   "outputs": [],
   "source": [
    "stat_df = signal_df.groupby('sequenceID')['position'].nunique().reset_index()\n",
    "stat_df.columns = ['sequenceID', 'length']"
   ]
  },
  {
   "cell_type": "code",
   "execution_count": null,
   "metadata": {},
   "outputs": [],
   "source": [
    "neg_mean_label_length = labels_df[labels_df['changes'] == 0].groupby('sequenceID')['label_length'].mean()\n",
    "pos_mean_label_length = labels_df[labels_df['changes'] == 1].groupby('sequenceID')['label_length'].mean()\n",
    "\n",
    "neg_mean_label_length = neg_mean_label_length.rename('avg_neg_label_length')\n",
    "pos_mean_label_length = pos_mean_label_length.rename('avg_pos_label_length')"
   ]
  },
  {
   "cell_type": "code",
   "execution_count": null,
   "metadata": {},
   "outputs": [],
   "source": [
    "mean_label_length_df = pd.merge(neg_mean_label_length, pos_mean_label_length, on='sequenceID')\n",
    "stat_df = pd.merge(stat_df, mean_label_length_df, on='sequenceID')"
   ]
  },
  {
   "cell_type": "code",
   "execution_count": null,
   "metadata": {},
   "outputs": [],
   "source": [
    "plt.scatter(np.log10(stat_df['length']), np.log10(stat_df['avg_neg_label_length']), color='black')\n",
    "plt.scatter(np.log10(stat_df['length']), np.log10(stat_df['avg_pos_label_length']), color='black')\n",
    "\n",
    "# Add labels and title\n",
    "plt.xlabel('Log10 of Length')\n",
    "plt.ylabel('Log10 of Label Length')\n",
    "plt.title('Length vs. Label Length')\n",
    "plt.savefig(\"figures/analyze/length_vs_label_length.png\")"
   ]
  }
 ],
 "metadata": {
  "kernelspec": {
   "display_name": "Python 3",
   "language": "python",
   "name": "python3"
  },
  "language_info": {
   "codemirror_mode": {
    "name": "ipython",
    "version": 3
   },
   "file_extension": ".py",
   "mimetype": "text/x-python",
   "name": "python",
   "nbconvert_exporter": "python",
   "pygments_lexer": "ipython3",
   "version": "3.11.9"
  }
 },
 "nbformat": 4,
 "nbformat_minor": 2
}
