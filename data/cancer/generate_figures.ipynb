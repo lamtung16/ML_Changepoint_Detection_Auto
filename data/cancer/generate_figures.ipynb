{
 "cells": [
  {
   "cell_type": "code",
   "execution_count": null,
   "metadata": {},
   "outputs": [],
   "source": [
    "import pandas as pd\n",
    "import lzma\n",
    "import matplotlib.pyplot as plt\n",
    "import numpy as np"
   ]
  },
  {
   "cell_type": "code",
   "execution_count": null,
   "metadata": {},
   "outputs": [],
   "source": [
    "with lzma.open(\"profiles.csv.xz\", 'rt') as file:\n",
    "    signal_df = pd.read_csv(file)\n",
    "\n",
    "folds_df = pd.read_csv(\"folds.csv\")\n",
    "labels_df = pd.read_csv(\"labels.csv\")"
   ]
  },
  {
   "cell_type": "code",
   "execution_count": null,
   "metadata": {},
   "outputs": [],
   "source": [
    "list_seqID = sorted(signal_df['sequenceID'].unique())"
   ]
  },
  {
   "cell_type": "code",
   "execution_count": null,
   "metadata": {},
   "outputs": [],
   "source": [
    "# for seq in list_seqID[::2]:\n",
    "#     seq_df = signal_df[signal_df['sequenceID'] == seq]\n",
    "#     seq_label_df = labels_df[(labels_df['sequenceID'] == seq) | (labels_df['sequenceID'] == (seq[:-3] + \".F2\"))]\n",
    "#     sequence_id = seq_df['sequenceID'].unique()[0][:-3]\n",
    "#     fig, ax = plt.subplots(figsize=(12, 1))\n",
    "    \n",
    "#     # Plot the signal over the position\n",
    "#     ax.plot(seq_df['position'] - 1, seq_df['signal'], color='blue', label=f\"{sequence_id}\")\n",
    "\n",
    "#     # Define the height for the rectangles as the range of signal values\n",
    "#     signal_min = seq_df['signal'].min()\n",
    "#     signal_max = seq_df['signal'].max()\n",
    "\n",
    "#     # Add rectangles for each labeled region in seq_label_df\n",
    "#     for _, row in seq_label_df.iterrows():\n",
    "#         # Set the rectangle color based on 'changes' column\n",
    "#         color = 'pink' if row['changes'] == 0 else 'red'\n",
    "        \n",
    "#         # Set the rectangle width\n",
    "#         start = row['start'] - 0.7\n",
    "#         end = row['end'] - 1.3\n",
    "#         width = end - start\n",
    "\n",
    "#         # Draw the rectangle\n",
    "#         ax.add_patch(plt.Rectangle((start, signal_min), width, signal_max - signal_min, color=color, alpha=0.3))\n",
    "\n",
    "#     # Label the axes\n",
    "#     ax.set_xlabel('position')\n",
    "#     ax.set_ylabel('signal')\n",
    "#     ax.legend()\n",
    "    \n",
    "#     # Save the figure as a PNG file\n",
    "#     plt.savefig(f'figures/sequence_{sequence_id}.png', bbox_inches='tight')\n",
    "#     plt.close(fig)  # Close the figure to free up memory"
   ]
  },
  {
   "cell_type": "code",
   "execution_count": null,
   "metadata": {},
   "outputs": [],
   "source": [
    "# # Iterate through each row in labels_df\n",
    "# for index, row in labels_df.iterrows():\n",
    "#     sequence_id = row['sequenceID']\n",
    "#     start = row['start']\n",
    "#     end = row['end']\n",
    "#     changes = row['changes']\n",
    "\n",
    "#     # Get the signal segment\n",
    "#     segment = signal_df[signal_df['sequenceID'] == sequence_id]['signal'].iloc[start-1:end]\n",
    "\n",
    "#     # Set the color based on changes\n",
    "#     color = 'blue' if changes == 0 else 'red'\n",
    "#     label_type = 'negative' if changes == 0 else 'positive'\n",
    "\n",
    "#     # Create the plot\n",
    "#     plt.figure(figsize=(12, 2))\n",
    "#     plt.plot(range(start, end + 1), segment, color=color, label=f\"{sequence_id[:-3]}: {('no change' if changes == 0 else 'one change')}\")\n",
    "\n",
    "#     # Set labels and ticks\n",
    "#     plt.ylabel(\"signal\")\n",
    "\n",
    "#     # Set x-ticks to show all positions from start to end\n",
    "#     plt.xticks([start, end])  # Show ticks for all positions\n",
    "\n",
    "#     # Set the x-axis limits to ensure all ticks are visible\n",
    "#     plt.xlim(start, end)  # Explicitly set x limits\n",
    "\n",
    "#     plt.legend()\n",
    "    \n",
    "#     # Use tight layout to prevent clipping\n",
    "#     plt.tight_layout()\n",
    "\n",
    "#     # Save the plot as a PNG file\n",
    "#     plt.savefig(f'figures/labels/{label_type}/{sequence_id[:-3]}_{index}.png', bbox_inches='tight')\n",
    "#     plt.close()"
   ]
  },
  {
   "cell_type": "code",
   "execution_count": null,
   "metadata": {},
   "outputs": [],
   "source": [
    "# # Iterate through each row in labels_df\n",
    "# for index, row in labels_df.iterrows():\n",
    "#     sequence_id = row['sequenceID']\n",
    "#     start = row['start']\n",
    "#     end = row['end']\n",
    "#     segment_size = end - start\n",
    "#     changes = row['changes']\n",
    "#     sequence = signal_df[signal_df['sequenceID'] == sequence_id][['position', 'signal']]\n",
    "#     seq_lenghth = sequence.shape[0]\n",
    "\n",
    "#     # Get the segment based on start and end positions\n",
    "#     neighbor_size = segment_size\n",
    "#     neighbor_start = start - neighbor_size\n",
    "#     if neighbor_start < 0:\n",
    "#         neighbor_start = 1\n",
    "#     neighbor_end = end + neighbor_size\n",
    "#     if neighbor_end > seq_lenghth:\n",
    "#         neighbor_end = seq_lenghth\n",
    "    \n",
    "#     segment                = sequence[(sequence['position'] >= start)          & (sequence['position'] <= end)]\n",
    "#     segment_neighbor_left  = sequence[(sequence['position'] >= neighbor_start) & (sequence['position'] <= start)]\n",
    "#     segment_neighbor_right = sequence[(sequence['position'] >= end)            & (sequence['position'] <= neighbor_end)]\n",
    "#     if changes == 1:\n",
    "#         plt.figure(figsize=(12, 2))\n",
    "#         plt.plot(segment_neighbor_left['position'], segment_neighbor_left['signal'], color='black', linestyle='-')\n",
    "#         plt.plot(segment_neighbor_right['position'], segment_neighbor_right['signal'], color='black', linestyle='-', label='neighbor')\n",
    "#         plt.plot(segment['position'], segment['signal'], color='red', linestyle='-', label='one change')\n",
    "#         plt.ylabel(f'{sequence_id[:-3]}')\n",
    "#         plt.xlim(neighbor_start - 1, neighbor_end + 1)\n",
    "#         plt.xticks([neighbor_start, start, end, neighbor_end])\n",
    "#         plt.legend()\n",
    "#         plt.savefig(f'figures/labels/positive_neighbor/{sequence_id[:-3]}_{index}.png', bbox_inches='tight')"
   ]
  }
 ],
 "metadata": {
  "kernelspec": {
   "display_name": "Python 3",
   "language": "python",
   "name": "python3"
  },
  "language_info": {
   "codemirror_mode": {
    "name": "ipython",
    "version": 3
   },
   "file_extension": ".py",
   "mimetype": "text/x-python",
   "name": "python",
   "nbconvert_exporter": "python",
   "pygments_lexer": "ipython3",
   "version": "3.11.9"
  }
 },
 "nbformat": 4,
 "nbformat_minor": 2
}
